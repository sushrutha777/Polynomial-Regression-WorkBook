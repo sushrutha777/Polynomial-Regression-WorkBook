{
 "cells": [
  {
   "cell_type": "code",
   "execution_count": 2,
   "id": "c21f8cd2-cc43-4701-8dc3-b52062e9e2d6",
   "metadata": {},
   "outputs": [],
   "source": [
    "import numpy as np\n",
    "import pandas as pd\n",
    "import matplotlib.pyplot as plt\n",
    "%matplotlib inline "
   ]
  },
  {
   "cell_type": "code",
   "execution_count": 8,
   "id": "cf3dd1af-447a-4862-aef7-d3818c3d1b42",
   "metadata": {},
   "outputs": [
    {
     "data": {
      "image/png": "[encoded data removed]",
      "text/plain": [
       "<Figure size 640x480 with 1 Axes>"
      ]
     },
     "metadata": {},
     "output_type": "display_data"
    }
   ],
   "source": [
    "X = 6 * np.random.rand(100, 1) - 3\n",
    "y =0.5 * X**2 + 1.5*X + 2 + np.random.randn(100, 1)\n",
    "# quadratic equation used- y=0.5x^2+1.5x+2+outliers\n",
    "plt.scatter(X,y,color=\"g\")\n",
    "plt.xlabel(\"X dataset\")\n",
    "plt.ylabel(\"Y dataset\");"
   ]
  },
  {
   "cell_type": "code",
   "execution_count": 10,
   "id": "ec8e453e-a239-4a40-b122-bbbdb279ec7b",
   "metadata": {},
   "outputs": [],
   "source": [
    "from sklearn.model_selection import train_test_split\n",
    "X_train,X_test,y_train,y_test=train_test_split(X,y,train_size=0.8,test_size=0.2,random_state=42)"
   ]
  },
  {
   "cell_type": "code",
   "execution_count": 12,
   "id": "d1f0e1fe-57b7-457a-aa86-75ce6ebee1b4",
   "metadata": {},
   "outputs": [],
   "source": [
    "## Lets implement Simple Linear Regression\n",
    "from sklearn.linear_model import LinearRegression\n",
    "regression_1=LinearRegression()"
   ]
  },
  {
   "cell_type": "code",
   "execution_count": 14,
   "id": "e39437e5-be0f-47f3-927b-86c920a1e07a",
   "metadata": {},
   "outputs": [
    {
     "data": {
      "text/html": [
       "<style>#sk-container-id-1 {\n",
       "  /* Definition of color scheme common for light and dark mode */\n",
       "  --sklearn-color-text: black;\n",
       "  --sklearn-color-line: gray;\n",
       "  /* Definition of color scheme for unfitted estimators */\n",
       "  --sklearn-color-unfitted-level-0: #fff5e6;\n",
       "  --sklearn-color-unfitted-level-1: #f6e4d2;\n",
       "  --sklearn-color-unfitted-level-2: #ffe0b3;\n",
       "  --sklearn-color-unfitted-level-3: chocolate;\n",
       "  /* Definition of color scheme for fitted estimators */\n",
       "  --sklearn-color-fitted-level-0: #f0f8ff;\n",
       "  --sklearn-color-fitted-level-1: #d4ebff;\n",
       "  --sklearn-color-fitted-level-2: #b3dbfd;\n",
       "  --sklearn-color-fitted-level-3: cornflowerblue;\n",
       "\n",
       "  /* Specific color for light theme */\n",
       "  --sklearn-color-text-on-default-background: var(--sg-text-color, var(--theme-code-foreground, var(--jp-content-font-color1, black)));\n",
       "  --sklearn-color-background: var(--sg-background-color, var(--theme-background, var(--jp-layout-color0, white)));\n",
       "  --sklearn-color-border-box: var(--sg-text-color, var(--theme-code-foreground, var(--jp-content-font-color1, black)));\n",
       "  --sklearn-color-icon: #696969;\n",
       "\n",
       "  @media (prefers-color-scheme: dark) {\n",
       "    /* Redefinition of color scheme for dark theme */\n",
       "    --sklearn-color-text-on-default-background: var(--sg-text-color, var(--theme-code-foreground, var(--jp-content-font-color1, white)));\n",
       "    --sklearn-color-background: var(--sg-background-color, var(--theme-background, var(--jp-layout-color0, #111)));\n",
       "    --sklearn-color-border-box: var(--sg-text-color, var(--theme-code-foreground, var(--jp-content-font-color1, white)));\n",
       "    --sklearn-color-icon: #878787;\n",
       "  }\n",
       "}\n",
       "\n",
       "#sk-container-id-1 {\n",
       "  color: var(--sklearn-color-text);\n",
       "}\n",
       "\n",
       "#sk-container-id-1 pre {\n",
       "  padding: 0;\n",
       "}\n",
       "\n",
       "#sk-container-id-1 input.sk-hidden--visually {\n",
       "  border: 0;\n",
       "  clip: rect(1px 1px 1px 1px);\n",
       "  clip: rect(1px, 1px, 1px, 1px);\n",
       "  height: 1px;\n",
       "  margin: -1px;\n",
       "  overflow: hidden;\n",
       "  padding: 0;\n",
       "  position: absolute;\n",
       "  width: 1px;\n",
       "}\n",
       "\n",
       "#sk-container-id-1 div.sk-dashed-wrapped {\n",
       "  border: 1px dashed var(--sklearn-color-line);\n",
       "  margin: 0 0.4em 0.5em 0.4em;\n",
       "  box-sizing: border-box;\n",
       "  padding-bottom: 0.4em;\n",
       "  background-color: var(--sklearn-color-background);\n",
       "}\n",
       "\n",
       "#sk-container-id-1 div.sk-container {\n",
       "  /* jupyter's `normalize.less` sets `[hidden] { display: none; }`\n",
       "     but bootstrap.min.css set `[hidden] { display: none !important; }`\n",
       "     so we also need the `!important` here to be able to override the\n",
       "     default hidden behavior on the sphinx rendered scikit-learn.org.\n",
       "     See: https://github.com/scikit-learn/scikit-learn/issues/21755 */\n",
       "  display: inline-block !important;\n",
       "  position: relative;\n",
       "}\n",
       "\n",
       "#sk-container-id-1 div.sk-text-repr-fallback {\n",
       "  display: none;\n",
       "}\n",
       "\n",
       "div.sk-parallel-item,\n",
       "div.sk-serial,\n",
       "div.sk-item {\n",
       "  /* draw centered vertical line to link estimators */\n",
       "  background-image: linear-gradient(var(--sklearn-color-text-on-default-background), var(--sklearn-color-text-on-default-background));\n",
       "  background-size: 2px 100%;\n",
       "  background-repeat: no-repeat;\n",
       "  background-position: center center;\n",
       "}\n",
       "\n",
       "/* Parallel-specific style estimator block */\n",
       "\n",
       "#sk-container-id-1 div.sk-parallel-item::after {\n",
       "  content: \"\";\n",
       "  width: 100%;\n",
       "  border-bottom: 2px solid var(--sklearn-color-text-on-default-background);\n",
       "  flex-grow: 1;\n",
       "}\n",
       "\n",
       "#sk-container-id-1 div.sk-parallel {\n",
       "  display: flex;\n",
       "  align-items: stretch;\n",
       "  justify-content: center;\n",
       "  background-color: var(--sklearn-color-background);\n",
       "  position: relative;\n",
       "}\n",
       "\n",
       "#sk-container-id-1 div.sk-parallel-item {\n",
       "  display: flex;\n",
       "  flex-direction: column;\n",
       "}\n",
       "\n",
       "#sk-container-id-1 div.sk-parallel-item:first-child::after {\n",
       "  align-self: flex-end;\n",
       "  width: 50%;\n",
       "}\n",
       "\n",
       "#sk-container-id-1 div.sk-parallel-item:last-child::after {\n",
       "  align-self: flex-start;\n",
       "  width: 50%;\n",
       "}\n",
       "\n",
       "#sk-container-id-1 div.sk-parallel-item:only-child::after {\n",
       "  width: 0;\n",
       "}\n",
       "\n",
       "/* Serial-specific style estimator block */\n",
       "\n",
       "#sk-container-id-1 div.sk-serial {\n",
       "  display: flex;\n",
       "  flex-direction: column;\n",
       "  align-items: center;\n",
       "  background-color: var(--sklearn-color-background);\n",
       "  padding-right: 1em;\n",
       "  padding-left: 1em;\n",
       "}\n",
       "\n",
       "\n",
       "/* Toggleable style: style used for estimator/Pipeline/ColumnTransformer box that is\n",
       "clickable and can be expanded/collapsed.\n",
       "- Pipeline and ColumnTransformer use this feature and define the default style\n",
       "- Estimators will overwrite some part of the style using the `sk-estimator` class\n",
       "*/\n",
       "\n",
       "/* Pipeline and ColumnTransformer style (default) */\n",
       "\n",
       "#sk-container-id-1 div.sk-toggleable {\n",
       "  /* Default theme specific background. It is overwritten whether we have a\n",
       "  specific estimator or a Pipeline/ColumnTransformer */\n",
       "  background-color: var(--sklearn-color-background);\n",
       "}\n",
       "\n",
       "/* Toggleable label */\n",
       "#sk-container-id-1 label.sk-toggleable__label {\n",
       "  cursor: pointer;\n",
       "  display: block;\n",
       "  width: 100%;\n",
       "  margin-bottom: 0;\n",
       "  padding: 0.5em;\n",
       "  box-sizing: border-box;\n",
       "  text-align: center;\n",
       "}\n",
       "\n",
       "#sk-container-id-1 label.sk-toggleable__label-arrow:before {\n",
       "  /* Arrow on the left of the label */\n",
       "  content: \"▸\";\n",
       "  float: left;\n",
       "  margin-right: 0.25em;\n",
       "  color: var(--sklearn-color-icon);\n",
       "}\n",
       "\n",
       "#sk-container-id-1 label.sk-toggleable__label-arrow:hover:before {\n",
       "  color: var(--sklearn-color-text);\n",
       "}\n",
       "\n",
       "/* Toggleable content - dropdown */\n",
       "\n",
       "#sk-container-id-1 div.sk-toggleable__content {\n",
       "  max-height: 0;\n",
       "  max-width: 0;\n",
       "  overflow: hidden;\n",
       "  text-align: left;\n",
       "  /* unfitted */\n",
       "  background-color: var(--sklearn-color-unfitted-level-0);\n",
       "}\n",
       "\n",
       "#sk-container-id-1 div.sk-toggleable__content.fitted {\n",
       "  /* fitted */\n",
       "  background-color: var(--sklearn-color-fitted-level-0);\n",
       "}\n",
       "\n",
       "#sk-container-id-1 div.sk-toggleable__content pre {\n",
       "  margin: 0.2em;\n",
       "  border-radius: 0.25em;\n",
       "  color: var(--sklearn-color-text);\n",
       "  /* unfitted */\n",
       "  background-color: var(--sklearn-color-unfitted-level-0);\n",
       "}\n",
       "\n",
       "#sk-container-id-1 div.sk-toggleable__content.fitted pre {\n",
       "  /* unfitted */\n",
       "  background-color: var(--sklearn-color-fitted-level-0);\n",
       "}\n",
       "\n",
       "#sk-container-id-1 input.sk-toggleable__control:checked~div.sk-toggleable__content {\n",
       "  /* Expand drop-down */\n",
       "  max-height: 200px;\n",
       "  max-width: 100%;\n",
       "  overflow: auto;\n",
       "}\n",
       "\n",
       "#sk-container-id-1 input.sk-toggleable__control:checked~label.sk-toggleable__label-arrow:before {\n",
       "  content: \"▾\";\n",
       "}\n",
       "\n",
       "/* Pipeline/ColumnTransformer-specific style */\n",
       "\n",
       "#sk-container-id-1 div.sk-label input.sk-toggleable__control:checked~label.sk-toggleable__label {\n",
       "  color: var(--sklearn-color-text);\n",
       "  background-color: var(--sklearn-color-unfitted-level-2);\n",
       "}\n",
       "\n",
       "#sk-container-id-1 div.sk-label.fitted input.sk-toggleable__control:checked~label.sk-toggleable__label {\n",
       "  background-color: var(--sklearn-color-fitted-level-2);\n",
       "}\n",
       "\n",
       "/* Estimator-specific style */\n",
       "\n",
       "/* Colorize estimator box */\n",
       "#sk-container-id-1 div.sk-estimator input.sk-toggleable__control:checked~label.sk-toggleable__label {\n",
       "  /* unfitted */\n",
       "  background-color: var(--sklearn-color-unfitted-level-2);\n",
       "}\n",
       "\n",
       "#sk-container-id-1 div.sk-estimator.fitted input.sk-toggleable__control:checked~label.sk-toggleable__label {\n",
       "  /* fitted */\n",
       "  background-color: var(--sklearn-color-fitted-level-2);\n",
       "}\n",
       "\n",
       "#sk-container-id-1 div.sk-label label.sk-toggleable__label,\n",
       "#sk-container-id-1 div.sk-label label {\n",
       "  /* The background is the default theme color */\n",
       "  color: var(--sklearn-color-text-on-default-background);\n",
       "}\n",
       "\n",
       "/* On hover, darken the color of the background */\n",
       "#sk-container-id-1 div.sk-label:hover label.sk-toggleable__label {\n",
       "  color: var(--sklearn-color-text);\n",
       "  background-color: var(--sklearn-color-unfitted-level-2);\n",
       "}\n",
       "\n",
       "/* Label box, darken color on hover, fitted */\n",
       "#sk-container-id-1 div.sk-label.fitted:hover label.sk-toggleable__label.fitted {\n",
       "  color: var(--sklearn-color-text);\n",
       "  background-color: var(--sklearn-color-fitted-level-2);\n",
       "}\n",
       "\n",
       "/* Estimator label */\n",
       "\n",
       "#sk-container-id-1 div.sk-label label {\n",
       "  font-family: monospace;\n",
       "  font-weight: bold;\n",
       "  display: inline-block;\n",
       "  line-height: 1.2em;\n",
       "}\n",
       "\n",
       "#sk-container-id-1 div.sk-label-container {\n",
       "  text-align: center;\n",
       "}\n",
       "\n",
       "/* Estimator-specific */\n",
       "#sk-container-id-1 div.sk-estimator {\n",
       "  font-family: monospace;\n",
       "  border: 1px dotted var(--sklearn-color-border-box);\n",
       "  border-radius: 0.25em;\n",
       "  box-sizing: border-box;\n",
       "  margin-bottom: 0.5em;\n",
       "  /* unfitted */\n",
       "  background-color: var(--sklearn-color-unfitted-level-0);\n",
       "}\n",
       "\n",
       "#sk-container-id-1 div.sk-estimator.fitted {\n",
       "  /* fitted */\n",
       "  background-color: var(--sklearn-color-fitted-level-0);\n",
       "}\n",
       "\n",
       "/* on hover */\n",
       "#sk-container-id-1 div.sk-estimator:hover {\n",
       "  /* unfitted */\n",
       "  background-color: var(--sklearn-color-unfitted-level-2);\n",
       "}\n",
       "\n",
       "#sk-container-id-1 div.sk-estimator.fitted:hover {\n",
       "  /* fitted */\n",
       "  background-color: var(--sklearn-color-fitted-level-2);\n",
       "}\n",
       "\n",
       "/* Specification for estimator info (e.g. \"i\" and \"?\") */\n",
       "\n",
       "/* Common style for \"i\" and \"?\" */\n",
       "\n",
       ".sk-estimator-doc-link,\n",
       "a:link.sk-estimator-doc-link,\n",
       "a:visited.sk-estimator-doc-link {\n",
       "  float: right;\n",
       "  font-size: smaller;\n",
       "  line-height: 1em;\n",
       "  font-family: monospace;\n",
       "  background-color: var(--sklearn-color-background);\n",
       "  border-radius: 1em;\n",
       "  height: 1em;\n",
       "  width: 1em;\n",
       "  text-decoration: none !important;\n",
       "  margin-left: 1ex;\n",
       "  /* unfitted */\n",
       "  border: var(--sklearn-color-unfitted-level-1) 1pt solid;\n",
       "  color: var(--sklearn-color-unfitted-level-1);\n",
       "}\n",
       "\n",
       ".sk-estimator-doc-link.fitted,\n",
       "a:link.sk-estimator-doc-link.fitted,\n",
       "a:visited.sk-estimator-doc-link.fitted {\n",
       "  /* fitted */\n",
       "  border: var(--sklearn-color-fitted-level-1) 1pt solid;\n",
       "  color: var(--sklearn-color-fitted-level-1);\n",
       "}\n",
       "\n",
       "/* On hover */\n",
       "div.sk-estimator:hover .sk-estimator-doc-link:hover,\n",
       ".sk-estimator-doc-link:hover,\n",
       "div.sk-label-container:hover .sk-estimator-doc-link:hover,\n",
       ".sk-estimator-doc-link:hover {\n",
       "  /* unfitted */\n",
       "  background-color: var(--sklearn-color-unfitted-level-3);\n",
       "  color: var(--sklearn-color-background);\n",
       "  text-decoration: none;\n",
       "}\n",
       "\n",
       "div.sk-estimator.fitted:hover .sk-estimator-doc-link.fitted:hover,\n",
       ".sk-estimator-doc-link.fitted:hover,\n",
       "div.sk-label-container:hover .sk-estimator-doc-link.fitted:hover,\n",
       ".sk-estimator-doc-link.fitted:hover {\n",
       "  /* fitted */\n",
       "  background-color: var(--sklearn-color-fitted-level-3);\n",
       "  color: var(--sklearn-color-background);\n",
       "  text-decoration: none;\n",
       "}\n",
       "\n",
       "/* Span, style for the box shown on hovering the info icon */\n",
       ".sk-estimator-doc-link span {\n",
       "  display: none;\n",
       "  z-index: 9999;\n",
       "  position: relative;\n",
       "  font-weight: normal;\n",
       "  right: .2ex;\n",
       "  padding: .5ex;\n",
       "  margin: .5ex;\n",
       "  width: min-content;\n",
       "  min-width: 20ex;\n",
       "  max-width: 50ex;\n",
       "  color: var(--sklearn-color-text);\n",
       "  box-shadow: 2pt 2pt 4pt #999;\n",
       "  /* unfitted */\n",
       "  background: var(--sklearn-color-unfitted-level-0);\n",
       "  border: .5pt solid var(--sklearn-color-unfitted-level-3);\n",
       "}\n",
       "\n",
       ".sk-estimator-doc-link.fitted span {\n",
       "  /* fitted */\n",
       "  background: var(--sklearn-color-fitted-level-0);\n",
       "  border: var(--sklearn-color-fitted-level-3);\n",
       "}\n",
       "\n",
       ".sk-estimator-doc-link:hover span {\n",
       "  display: block;\n",
       "}\n",
       "\n",
       "/* \"?\"-specific style due to the `<a>` HTML tag */\n",
       "\n",
       "#sk-container-id-1 a.estimator_doc_link {\n",
       "  float: right;\n",
       "  font-size: 1rem;\n",
       "  line-height: 1em;\n",
       "  font-family: monospace;\n",
       "  background-color: var(--sklearn-color-background);\n",
       "  border-radius: 1rem;\n",
       "  height: 1rem;\n",
       "  width: 1rem;\n",
       "  text-decoration: none;\n",
       "  /* unfitted */\n",
       "  color: var(--sklearn-color-unfitted-level-1);\n",
       "  border: var(--sklearn-color-unfitted-level-1) 1pt solid;\n",
       "}\n",
       "\n",
       "#sk-container-id-1 a.estimator_doc_link.fitted {\n",
       "  /* fitted */\n",
       "  border: var(--sklearn-color-fitted-level-1) 1pt solid;\n",
       "  color: var(--sklearn-color-fitted-level-1);\n",
       "}\n",
       "\n",
       "/* On hover */\n",
       "#sk-container-id-1 a.estimator_doc_link:hover {\n",
       "  /* unfitted */\n",
       "  background-color: var(--sklearn-color-unfitted-level-3);\n",
       "  color: var(--sklearn-color-background);\n",
       "  text-decoration: none;\n",
       "}\n",
       "\n",
       "#sk-container-id-1 a.estimator_doc_link.fitted:hover {\n",
       "  /* fitted */\n",
       "  background-color: var(--sklearn-color-fitted-level-3);\n",
       "}\n",
       "</style><div id=\"sk-container-id-1\" class=\"sk-top-container\"><div class=\"sk-text-repr-fallback\"><pre>LinearRegression()</pre><b>In a Jupyter environment, please rerun this cell to show the HTML representation or trust the notebook. <br />On GitHub, the HTML representation is unable to render, please try loading this page with nbviewer.org.</b></div><div class=\"sk-container\" hidden><div class=\"sk-item\"><div class=\"sk-estimator fitted sk-toggleable\"><input class=\"sk-toggleable__control sk-hidden--visually\" id=\"sk-estimator-id-1\" type=\"checkbox\" checked><label for=\"sk-estimator-id-1\" class=\"sk-toggleable__label fitted sk-toggleable__label-arrow fitted\">&nbsp;&nbsp;LinearRegression<a class=\"sk-estimator-doc-link fitted\" rel=\"noreferrer\" target=\"_blank\" href=\"https://scikit-learn.org/1.4/modules/generated/sklearn.linear_model.LinearRegression.html\">?<span>Documentation for LinearRegression</span></a><span class=\"sk-estimator-doc-link fitted\">i<span>Fitted</span></span></label><div class=\"sk-toggleable__content fitted\"><pre>LinearRegression()</pre></div> </div></div></div></div>"
      ],
      "text/plain": [
       "LinearRegression()"
      ]
     },
     "execution_count": 14,
     "metadata": {},
     "output_type": "execute_result"
    }
   ],
   "source": [
    "regression_1.fit(X_train,y_train)"
   ]
  },
  {
   "cell_type": "code",
   "execution_count": 16,
   "id": "7330c1dc-cfa3-4a66-a9d2-745dbcd9f543",
   "metadata": {},
   "outputs": [
    {
     "name": "stdout",
     "output_type": "stream",
     "text": [
      "0.756607939627776\n"
     ]
    }
   ],
   "source": [
    "from sklearn.metrics import r2_score\n",
    "score=r2_score(y_test,regression_1.predict(X_test))\n",
    "print(score)"
   ]
  },
  {
   "cell_type": "code",
   "execution_count": 22,
   "id": "3be673a3-773b-42e8-82db-0a4b9e6ed533",
   "metadata": {},
   "outputs": [
    {
     "data": {
      "image/png": "[encoded data removed]",
      "text/plain": [
       "<Figure size 640x480 with 1 Axes>"
      ]
     },
     "metadata": {},
     "output_type": "display_data"
    }
   ],
   "source": [
    "## Lets visualize this model\n",
    "plt.plot(X_train,regression_1.predict(X_train),color='r')\n",
    "plt.scatter(X_train,y_train)\n",
    "plt.xlabel(\"X Dataset\")\n",
    "plt.ylabel(\"Y\");\n",
    "# this is the resoon why we got less R-square value (our data is in polynomial form , but the model is trying to fit it with strainght line)"
   ]
  },
  {
   "cell_type": "code",
   "execution_count": 28,
   "id": "2b7ed9da-1967-4cb8-a621-796e3d7215dd",
   "metadata": {},
   "outputs": [],
   "source": [
    "#Lets apply polynomial transformation\n",
    "from sklearn.preprocessing import PolynomialFeatures"
   ]
  },
  {
   "cell_type": "code",
   "execution_count": 48,
   "id": "209c1723-5614-45cc-8349-68d7ea3ac17c",
   "metadata": {},
   "outputs": [],
   "source": [
    "#we are changing the model with degree=2\n",
    "poly=PolynomialFeatures(degree=2,include_bias=True)\n",
    "X_train_poly=poly.fit_transform(X_train)\n",
    "X_test_poly=poly.transform(X_test)"
   ]
  },
  {
   "cell_type": "code",
   "execution_count": 50,
   "id": "2950d868-fd73-464a-b110-730c2bf52011",
   "metadata": {},
   "outputs": [
    {
     "data": {
      "text/plain": [
       "array([[ 1.00000000e+00, -2.76780174e+00,  7.66072647e+00],\n",
       "       [ 1.00000000e+00,  1.80875948e+00,  3.27161084e+00],\n",
       "       [ 1.00000000e+00,  2.90373505e+00,  8.43167724e+00],\n",
       "       [ 1.00000000e+00,  7.26743356e-02,  5.28155906e-03],\n",
       "       [ 1.00000000e+00, -4.66994987e-02,  2.18084318e-03],\n",
       "       [ 1.00000000e+00, -1.16418677e+00,  1.35533082e+00],\n",
       "       [ 1.00000000e+00,  5.87731584e-01,  3.45428414e-01],\n",
       "       [ 1.00000000e+00, -7.82373303e-01,  6.12107986e-01],\n",
       "       [ 1.00000000e+00,  2.28461430e+00,  5.21946249e+00],\n",
       "       [ 1.00000000e+00, -1.01075982e+00,  1.02163541e+00],\n",
       "       [ 1.00000000e+00, -6.30772863e-01,  3.97874404e-01],\n",
       "       [ 1.00000000e+00, -2.72078411e+00,  7.40266618e+00],\n",
       "       [ 1.00000000e+00, -1.05981088e+00,  1.12319911e+00],\n",
       "       [ 1.00000000e+00, -9.58751295e-01,  9.19204046e-01],\n",
       "       [ 1.00000000e+00,  5.56857149e-01,  3.10089885e-01],\n",
       "       [ 1.00000000e+00, -5.28358094e-01,  2.79162275e-01],\n",
       "       [ 1.00000000e+00, -1.66207178e+00,  2.76248259e+00],\n",
       "       [ 1.00000000e+00, -1.69531266e+00,  2.87408502e+00],\n",
       "       [ 1.00000000e+00,  1.69103470e+00,  2.85959834e+00],\n",
       "       [ 1.00000000e+00,  5.01948234e-01,  2.51952030e-01],\n",
       "       [ 1.00000000e+00, -6.53715098e-02,  4.27343429e-03],\n",
       "       [ 1.00000000e+00, -2.15042570e+00,  4.62433068e+00],\n",
       "       [ 1.00000000e+00,  2.19740360e+00,  4.82858257e+00],\n",
       "       [ 1.00000000e+00, -3.57973540e-01,  1.28145055e-01],\n",
       "       [ 1.00000000e+00, -4.37413547e-01,  1.91330611e-01],\n",
       "       [ 1.00000000e+00, -2.90209235e+00,  8.42213999e+00],\n",
       "       [ 1.00000000e+00, -6.83392613e-02,  4.67025464e-03],\n",
       "       [ 1.00000000e+00,  1.42863748e-01,  2.04100506e-02],\n",
       "       [ 1.00000000e+00,  2.51067268e+00,  6.30347730e+00],\n",
       "       [ 1.00000000e+00,  1.90991047e+00,  3.64775799e+00],\n",
       "       [ 1.00000000e+00,  5.46110703e-01,  2.98236900e-01],\n",
       "       [ 1.00000000e+00,  1.23837025e+00,  1.53356089e+00],\n",
       "       [ 1.00000000e+00,  1.11520469e+00,  1.24368150e+00],\n",
       "       [ 1.00000000e+00, -1.58852504e+00,  2.52341181e+00],\n",
       "       [ 1.00000000e+00, -1.68551477e+00,  2.84096003e+00],\n",
       "       [ 1.00000000e+00, -1.90821359e+00,  3.64127910e+00],\n",
       "       [ 1.00000000e+00,  1.73628436e+00,  3.01468338e+00],\n",
       "       [ 1.00000000e+00,  7.77660935e-01,  6.04756529e-01],\n",
       "       [ 1.00000000e+00, -2.97606335e+00,  8.85695307e+00],\n",
       "       [ 1.00000000e+00, -3.93865056e-01,  1.55129683e-01],\n",
       "       [ 1.00000000e+00,  1.68417501e+00,  2.83644548e+00],\n",
       "       [ 1.00000000e+00,  1.85481407e+00,  3.44033525e+00],\n",
       "       [ 1.00000000e+00, -5.68084258e-01,  3.22719724e-01],\n",
       "       [ 1.00000000e+00, -2.44469452e+00,  5.97653131e+00],\n",
       "       [ 1.00000000e+00,  2.66733264e+00,  7.11466339e+00],\n",
       "       [ 1.00000000e+00,  3.89584005e-01,  1.51775697e-01],\n",
       "       [ 1.00000000e+00,  7.85744661e-01,  6.17394673e-01],\n",
       "       [ 1.00000000e+00,  2.59996559e-02,  6.75982109e-04],\n",
       "       [ 1.00000000e+00, -1.89231054e+00,  3.58083919e+00],\n",
       "       [ 1.00000000e+00, -2.45088315e+00,  6.00682822e+00],\n",
       "       [ 1.00000000e+00,  2.25044597e+00,  5.06450706e+00],\n",
       "       [ 1.00000000e+00,  1.13846549e+00,  1.29610367e+00],\n",
       "       [ 1.00000000e+00, -6.19866917e-01,  3.84234994e-01],\n",
       "       [ 1.00000000e+00,  2.51935204e-01,  6.34713471e-02],\n",
       "       [ 1.00000000e+00,  2.43167969e+00,  5.91306612e+00],\n",
       "       [ 1.00000000e+00,  8.04421032e-02,  6.47093196e-03],\n",
       "       [ 1.00000000e+00, -6.70598857e-01,  4.49702827e-01],\n",
       "       [ 1.00000000e+00,  4.25609185e-01,  1.81143178e-01],\n",
       "       [ 1.00000000e+00,  2.20553240e+00,  4.86437318e+00],\n",
       "       [ 1.00000000e+00, -2.57321361e+00,  6.62142828e+00],\n",
       "       [ 1.00000000e+00, -1.87913690e+00,  3.53115549e+00],\n",
       "       [ 1.00000000e+00, -8.38915115e-01,  7.03778570e-01],\n",
       "       [ 1.00000000e+00,  1.66189794e+00,  2.76190476e+00],\n",
       "       [ 1.00000000e+00, -1.83456564e+00,  3.36563110e+00],\n",
       "       [ 1.00000000e+00, -1.39397217e+00,  1.94315840e+00],\n",
       "       [ 1.00000000e+00,  7.88630771e-01,  6.21938492e-01],\n",
       "       [ 1.00000000e+00, -2.97252194e+00,  8.83588668e+00],\n",
       "       [ 1.00000000e+00, -6.23004340e-02,  3.88134407e-03],\n",
       "       [ 1.00000000e+00, -2.46837686e+00,  6.09288434e+00],\n",
       "       [ 1.00000000e+00,  3.80899648e-01,  1.45084542e-01],\n",
       "       [ 1.00000000e+00, -1.13718016e+00,  1.29317871e+00],\n",
       "       [ 1.00000000e+00, -2.11152808e+00,  4.45855082e+00],\n",
       "       [ 1.00000000e+00,  2.58222628e+00,  6.66789255e+00],\n",
       "       [ 1.00000000e+00, -2.80679008e-01,  7.87807057e-02],\n",
       "       [ 1.00000000e+00,  8.59414045e-01,  7.38592500e-01],\n",
       "       [ 1.00000000e+00, -4.25834993e-01,  1.81335441e-01],\n",
       "       [ 1.00000000e+00,  7.44355480e-01,  5.54065080e-01],\n",
       "       [ 1.00000000e+00,  1.23979349e+00,  1.53708791e+00],\n",
       "       [ 1.00000000e+00,  2.32911089e+00,  5.42475755e+00],\n",
       "       [ 1.00000000e+00,  2.95299856e+00,  8.72020049e+00]])"
      ]
     },
     "execution_count": 50,
     "metadata": {},
     "output_type": "execute_result"
    }
   ],
   "source": [
    "X_train_poly"
   ]
  },
  {
   "cell_type": "code",
   "execution_count": 52,
   "id": "5477265e-a5dd-4842-a2a6-12f256f144b4",
   "metadata": {},
   "outputs": [
    {
     "data": {
      "text/plain": [
       "array([[ 1.00000000e+00,  1.10952953e+00,  1.23105577e+00],\n",
       "       [ 1.00000000e+00, -8.59339583e-01,  7.38464518e-01],\n",
       "       [ 1.00000000e+00,  2.53168098e+00,  6.40940858e+00],\n",
       "       [ 1.00000000e+00,  7.39084830e-01,  5.46246386e-01],\n",
       "       [ 1.00000000e+00,  9.58359407e-01,  9.18452753e-01],\n",
       "       [ 1.00000000e+00,  1.89430438e+00,  3.58838908e+00],\n",
       "       [ 1.00000000e+00,  2.62786136e+00,  6.90565533e+00],\n",
       "       [ 1.00000000e+00, -2.43990868e+00,  5.95315438e+00],\n",
       "       [ 1.00000000e+00,  2.81294910e+00,  7.91268267e+00],\n",
       "       [ 1.00000000e+00, -2.69177175e-01,  7.24563514e-02],\n",
       "       [ 1.00000000e+00,  7.70980765e-01,  5.94411340e-01],\n",
       "       [ 1.00000000e+00, -1.64192580e+00,  2.69592034e+00],\n",
       "       [ 1.00000000e+00, -2.36871860e+00,  5.61082782e+00],\n",
       "       [ 1.00000000e+00, -2.27379166e+00,  5.17012849e+00],\n",
       "       [ 1.00000000e+00, -2.03530095e+00,  4.14244996e+00],\n",
       "       [ 1.00000000e+00,  2.69062948e+00,  7.23948698e+00],\n",
       "       [ 1.00000000e+00, -1.80193312e+00,  3.24696298e+00],\n",
       "       [ 1.00000000e+00, -2.04819737e-01,  4.19511246e-02],\n",
       "       [ 1.00000000e+00, -3.46017857e-02,  1.19728357e-03],\n",
       "       [ 1.00000000e+00, -1.30879740e+00,  1.71295063e+00]])"
      ]
     },
     "execution_count": 52,
     "metadata": {},
     "output_type": "execute_result"
    }
   ],
   "source": [
    "X_test_poly"
   ]
  },
  {
   "cell_type": "code",
   "execution_count": 54,
   "id": "7e26e4d1-2122-497d-abe1-f000899f58ec",
   "metadata": {},
   "outputs": [
    {
     "name": "stdout",
     "output_type": "stream",
     "text": [
      "0.8954616405201897\n"
     ]
    }
   ],
   "source": [
    "from sklearn.metrics import r2_score\n",
    "regression = LinearRegression()\n",
    "regression.fit(X_train_poly, y_train)\n",
    "y_pred = regression.predict(X_test_poly)\n",
    "score=r2_score(y_test,y_pred)\n",
    "print(score)\n",
    "#Now you can see the model is giving more score compared to the previous score"
   ]
  },
  {
   "cell_type": "code",
   "execution_count": 56,
   "id": "e3ee020d-13da-4697-a328-cd1fcbdf2ba8",
   "metadata": {},
   "outputs": [
    {
     "name": "stdout",
     "output_type": "stream",
     "text": [
      "[[0.         1.67289949 0.52127386]]\n"
     ]
    }
   ],
   "source": [
    "print(regression.coef_)"
   ]
  },
  {
   "cell_type": "code",
   "execution_count": 58,
   "id": "f4da4e1b-8650-40c1-a42a-6c31a6aa93dd",
   "metadata": {},
   "outputs": [
    {
     "name": "stdout",
     "output_type": "stream",
     "text": [
      "[2.02085738]\n"
     ]
    }
   ],
   "source": [
    "print(regression.intercept_)"
   ]
  },
  {
   "cell_type": "code",
   "execution_count": 60,
   "id": "c2cd8e12-ae39-416f-8058-57bb71c21724",
   "metadata": {},
   "outputs": [
    {
     "data": {
      "image/png": "[encoded data removed]",
      "text/plain": [
       "<Figure size 640x480 with 1 Axes>"
      ]
     },
     "metadata": {},
     "output_type": "display_data"
    }
   ],
   "source": [
    "plt.scatter(X_train,regression.predict(X_train_poly)) #best fit line\n",
    "plt.scatter(X_train,y_train);"
   ]
  },
  {
   "cell_type": "code",
   "execution_count": 95,
   "id": "a00ed5ae-e303-46d2-b27a-eeb783012e27",
   "metadata": {},
   "outputs": [],
   "source": [
    "#we are changing the model with degree=3\n",
    "poly=PolynomialFeatures(degree=3,include_bias=True)\n",
    "X_train_poly=poly.fit_transform(X_train)\n",
    "X_test_poly=poly.transform(X_test)"
   ]
  },
  {
   "cell_type": "code",
   "execution_count": 97,
   "id": "9f5ba1c0-9f05-450a-9479-0dbe2a88dbba",
   "metadata": {},
   "outputs": [
    {
     "data": {
      "text/plain": [
       "array([[ 1.00000000e+00, -2.76780174e+00,  7.66072647e+00,\n",
       "        -2.12033720e+01],\n",
       "       [ 1.00000000e+00,  1.80875948e+00,  3.27161084e+00,\n",
       "         5.91755711e+00],\n",
       "       [ 1.00000000e+00,  2.90373505e+00,  8.43167724e+00,\n",
       "         2.44833567e+01],\n",
       "       [ 1.00000000e+00,  7.26743356e-02,  5.28155906e-03,\n",
       "         3.83833795e-04],\n",
       "       [ 1.00000000e+00, -4.66994987e-02,  2.18084318e-03,\n",
       "        -1.01844283e-04],\n",
       "       [ 1.00000000e+00, -1.16418677e+00,  1.35533082e+00,\n",
       "        -1.57785821e+00],\n",
       "       [ 1.00000000e+00,  5.87731584e-01,  3.45428414e-01,\n",
       "         2.03019189e-01],\n",
       "       [ 1.00000000e+00, -7.82373303e-01,  6.12107986e-01,\n",
       "        -4.78896947e-01],\n",
       "       [ 1.00000000e+00,  2.28461430e+00,  5.21946249e+00,\n",
       "         1.19244586e+01],\n",
       "       [ 1.00000000e+00, -1.01075982e+00,  1.02163541e+00,\n",
       "        -1.03262801e+00],\n",
       "       [ 1.00000000e+00, -6.30772863e-01,  3.97874404e-01,\n",
       "        -2.50968377e-01],\n",
       "       [ 1.00000000e+00, -2.72078411e+00,  7.40266618e+00,\n",
       "        -2.01410565e+01],\n",
       "       [ 1.00000000e+00, -1.05981088e+00,  1.12319911e+00,\n",
       "        -1.19037864e+00],\n",
       "       [ 1.00000000e+00, -9.58751295e-01,  9.19204046e-01,\n",
       "        -8.81288070e-01],\n",
       "       [ 1.00000000e+00,  5.56857149e-01,  3.10089885e-01,\n",
       "         1.72675769e-01],\n",
       "       [ 1.00000000e+00, -5.28358094e-01,  2.79162275e-01,\n",
       "        -1.47497648e-01],\n",
       "       [ 1.00000000e+00, -1.66207178e+00,  2.76248259e+00,\n",
       "        -4.59144436e+00],\n",
       "       [ 1.00000000e+00, -1.69531266e+00,  2.87408502e+00,\n",
       "        -4.87247272e+00],\n",
       "       [ 1.00000000e+00,  1.69103470e+00,  2.85959834e+00,\n",
       "         4.83568001e+00],\n",
       "       [ 1.00000000e+00,  5.01948234e-01,  2.51952030e-01,\n",
       "         1.26466877e-01],\n",
       "       [ 1.00000000e+00, -6.53715098e-02,  4.27343429e-03,\n",
       "        -2.79360852e-04],\n",
       "       [ 1.00000000e+00, -2.15042570e+00,  4.62433068e+00,\n",
       "        -9.94427954e+00],\n",
       "       [ 1.00000000e+00,  2.19740360e+00,  4.82858257e+00,\n",
       "         1.06103447e+01],\n",
       "       [ 1.00000000e+00, -3.57973540e-01,  1.28145055e-01,\n",
       "        -4.58725390e-02],\n",
       "       [ 1.00000000e+00, -4.37413547e-01,  1.91330611e-01,\n",
       "        -8.36906014e-02],\n",
       "       [ 1.00000000e+00, -2.90209235e+00,  8.42213999e+00,\n",
       "        -2.44418280e+01],\n",
       "       [ 1.00000000e+00, -6.83392613e-02,  4.67025464e-03,\n",
       "        -3.19161752e-04],\n",
       "       [ 1.00000000e+00,  1.42863748e-01,  2.04100506e-02,\n",
       "         2.91585633e-03],\n",
       "       [ 1.00000000e+00,  2.51067268e+00,  6.30347730e+00,\n",
       "         1.58259683e+01],\n",
       "       [ 1.00000000e+00,  1.90991047e+00,  3.64775799e+00,\n",
       "         6.96689116e+00],\n",
       "       [ 1.00000000e+00,  5.46110703e-01,  2.98236900e-01,\n",
       "         1.62870363e-01],\n",
       "       [ 1.00000000e+00,  1.23837025e+00,  1.53356089e+00,\n",
       "         1.89911618e+00],\n",
       "       [ 1.00000000e+00,  1.11520469e+00,  1.24368150e+00,\n",
       "         1.38695943e+00],\n",
       "       [ 1.00000000e+00, -1.58852504e+00,  2.52341181e+00,\n",
       "        -4.00850284e+00],\n",
       "       [ 1.00000000e+00, -1.68551477e+00,  2.84096003e+00,\n",
       "        -4.78848008e+00],\n",
       "       [ 1.00000000e+00, -1.90821359e+00,  3.64127910e+00,\n",
       "        -6.94833827e+00],\n",
       "       [ 1.00000000e+00,  1.73628436e+00,  3.01468338e+00,\n",
       "         5.23434761e+00],\n",
       "       [ 1.00000000e+00,  7.77660935e-01,  6.04756529e-01,\n",
       "         4.70295528e-01],\n",
       "       [ 1.00000000e+00, -2.97606335e+00,  8.85695307e+00,\n",
       "        -2.63588534e+01],\n",
       "       [ 1.00000000e+00, -3.93865056e-01,  1.55129683e-01,\n",
       "        -6.11001612e-02],\n",
       "       [ 1.00000000e+00,  1.68417501e+00,  2.83644548e+00,\n",
       "         4.77707060e+00],\n",
       "       [ 1.00000000e+00,  1.85481407e+00,  3.44033525e+00,\n",
       "         6.38118223e+00],\n",
       "       [ 1.00000000e+00, -5.68084258e-01,  3.22719724e-01,\n",
       "        -1.83331995e-01],\n",
       "       [ 1.00000000e+00, -2.44469452e+00,  5.97653131e+00,\n",
       "        -1.46107933e+01],\n",
       "       [ 1.00000000e+00,  2.66733264e+00,  7.11466339e+00,\n",
       "         1.89771738e+01],\n",
       "       [ 1.00000000e+00,  3.89584005e-01,  1.51775697e-01,\n",
       "         5.91293837e-02],\n",
       "       [ 1.00000000e+00,  7.85744661e-01,  6.17394673e-01,\n",
       "         4.85114568e-01],\n",
       "       [ 1.00000000e+00,  2.59996559e-02,  6.75982109e-04,\n",
       "         1.75753023e-05],\n",
       "       [ 1.00000000e+00, -1.89231054e+00,  3.58083919e+00,\n",
       "        -6.77605976e+00],\n",
       "       [ 1.00000000e+00, -2.45088315e+00,  6.00682822e+00,\n",
       "        -1.47220341e+01],\n",
       "       [ 1.00000000e+00,  2.25044597e+00,  5.06450706e+00,\n",
       "         1.13973995e+01],\n",
       "       [ 1.00000000e+00,  1.13846549e+00,  1.29610367e+00,\n",
       "         1.47556930e+00],\n",
       "       [ 1.00000000e+00, -6.19866917e-01,  3.84234994e-01,\n",
       "        -2.38174561e-01],\n",
       "       [ 1.00000000e+00,  2.51935204e-01,  6.34713471e-02,\n",
       "         1.59906668e-02],\n",
       "       [ 1.00000000e+00,  2.43167969e+00,  5.91306612e+00,\n",
       "         1.43786828e+01],\n",
       "       [ 1.00000000e+00,  8.04421032e-02,  6.47093196e-03,\n",
       "         5.20535377e-04],\n",
       "       [ 1.00000000e+00, -6.70598857e-01,  4.49702827e-01,\n",
       "        -3.01570202e-01],\n",
       "       [ 1.00000000e+00,  4.25609185e-01,  1.81143178e-01,\n",
       "         7.70962004e-02],\n",
       "       [ 1.00000000e+00,  2.20553240e+00,  4.86437318e+00,\n",
       "         1.07285327e+01],\n",
       "       [ 1.00000000e+00, -2.57321361e+00,  6.62142828e+00,\n",
       "        -1.70383493e+01],\n",
       "       [ 1.00000000e+00, -1.87913690e+00,  3.53115549e+00,\n",
       "        -6.63552458e+00],\n",
       "       [ 1.00000000e+00, -8.38915115e-01,  7.03778570e-01,\n",
       "        -5.90410479e-01],\n",
       "       [ 1.00000000e+00,  1.66189794e+00,  2.76190476e+00,\n",
       "         4.59000383e+00],\n",
       "       [ 1.00000000e+00, -1.83456564e+00,  3.36563110e+00,\n",
       "        -6.17447119e+00],\n",
       "       [ 1.00000000e+00, -1.39397217e+00,  1.94315840e+00,\n",
       "        -2.70870873e+00],\n",
       "       [ 1.00000000e+00,  7.88630771e-01,  6.21938492e-01,\n",
       "         4.90479833e-01],\n",
       "       [ 1.00000000e+00, -2.97252194e+00,  8.83588668e+00,\n",
       "        -2.62648670e+01],\n",
       "       [ 1.00000000e+00, -6.23004340e-02,  3.88134407e-03,\n",
       "        -2.41809420e-04],\n",
       "       [ 1.00000000e+00, -2.46837686e+00,  6.09288434e+00,\n",
       "        -1.50395347e+01],\n",
       "       [ 1.00000000e+00,  3.80899648e-01,  1.45084542e-01,\n",
       "         5.52626511e-02],\n",
       "       [ 1.00000000e+00, -1.13718016e+00,  1.29317871e+00,\n",
       "        -1.47057716e+00],\n",
       "       [ 1.00000000e+00, -2.11152808e+00,  4.45855082e+00,\n",
       "        -9.41435525e+00],\n",
       "       [ 1.00000000e+00,  2.58222628e+00,  6.66789255e+00,\n",
       "         1.72180074e+01],\n",
       "       [ 1.00000000e+00, -2.80679008e-01,  7.87807057e-02,\n",
       "        -2.21120903e-02],\n",
       "       [ 1.00000000e+00,  8.59414045e-01,  7.38592500e-01,\n",
       "         6.34756768e-01],\n",
       "       [ 1.00000000e+00, -4.25834993e-01,  1.81335441e-01,\n",
       "        -7.72189762e-02],\n",
       "       [ 1.00000000e+00,  7.44355480e-01,  5.54065080e-01,\n",
       "         4.12421378e-01],\n",
       "       [ 1.00000000e+00,  1.23979349e+00,  1.53708791e+00,\n",
       "         1.90567159e+00],\n",
       "       [ 1.00000000e+00,  2.32911089e+00,  5.42475755e+00,\n",
       "         1.26348619e+01],\n",
       "       [ 1.00000000e+00,  2.95299856e+00,  8.72020049e+00,\n",
       "         2.57507395e+01]])"
      ]
     },
     "execution_count": 97,
     "metadata": {},
     "output_type": "execute_result"
    }
   ],
   "source": [
    "X_train_poly"
   ]
  },
  {
   "cell_type": "code",
   "execution_count": 99,
   "id": "86bcd01f-7e3b-4ba9-928f-ad616c77e56a",
   "metadata": {},
   "outputs": [
    {
     "data": {
      "text/plain": [
       "array([[ 1.00000000e+00,  1.10952953e+00,  1.23105577e+00,\n",
       "         1.36589273e+00],\n",
       "       [ 1.00000000e+00, -8.59339583e-01,  7.38464518e-01,\n",
       "        -6.34591791e-01],\n",
       "       [ 1.00000000e+00,  2.53168098e+00,  6.40940858e+00,\n",
       "         1.62265778e+01],\n",
       "       [ 1.00000000e+00,  7.39084830e-01,  5.46246386e-01,\n",
       "         4.03722417e-01],\n",
       "       [ 1.00000000e+00,  9.58359407e-01,  9.18452753e-01,\n",
       "         8.80207836e-01],\n",
       "       [ 1.00000000e+00,  1.89430438e+00,  3.58838908e+00,\n",
       "         6.79750115e+00],\n",
       "       [ 1.00000000e+00,  2.62786136e+00,  6.90565533e+00,\n",
       "         1.81471048e+01],\n",
       "       [ 1.00000000e+00, -2.43990868e+00,  5.95315438e+00,\n",
       "        -1.45251531e+01],\n",
       "       [ 1.00000000e+00,  2.81294910e+00,  7.91268267e+00,\n",
       "         2.22579736e+01],\n",
       "       [ 1.00000000e+00, -2.69177175e-01,  7.24563514e-02,\n",
       "        -1.95035960e-02],\n",
       "       [ 1.00000000e+00,  7.70980765e-01,  5.94411340e-01,\n",
       "         4.58279709e-01],\n",
       "       [ 1.00000000e+00, -1.64192580e+00,  2.69592034e+00,\n",
       "        -4.42650118e+00],\n",
       "       [ 1.00000000e+00, -2.36871860e+00,  5.61082782e+00,\n",
       "        -1.32904722e+01],\n",
       "       [ 1.00000000e+00, -2.27379166e+00,  5.17012849e+00,\n",
       "        -1.17557950e+01],\n",
       "       [ 1.00000000e+00, -2.03530095e+00,  4.14244996e+00,\n",
       "        -8.43113234e+00],\n",
       "       [ 1.00000000e+00,  2.69062948e+00,  7.23948698e+00,\n",
       "         1.94787770e+01],\n",
       "       [ 1.00000000e+00, -1.80193312e+00,  3.24696298e+00,\n",
       "        -5.85081014e+00],\n",
       "       [ 1.00000000e+00, -2.04819737e-01,  4.19511246e-02,\n",
       "        -8.59241829e-03],\n",
       "       [ 1.00000000e+00, -3.46017857e-02,  1.19728357e-03,\n",
       "        -4.14281496e-05],\n",
       "       [ 1.00000000e+00, -1.30879740e+00,  1.71295063e+00,\n",
       "        -2.24190533e+00]])"
      ]
     },
     "execution_count": 99,
     "metadata": {},
     "output_type": "execute_result"
    }
   ],
   "source": [
    "X_test_poly"
   ]
  },
  {
   "cell_type": "code",
   "execution_count": 101,
   "id": "381cb612-10da-423a-b440-7d6d3675a918",
   "metadata": {},
   "outputs": [
    {
     "name": "stdout",
     "output_type": "stream",
     "text": [
      "0.8974699162743571\n"
     ]
    }
   ],
   "source": [
    "from sklearn.metrics import r2_score\n",
    "regression = LinearRegression()\n",
    "regression.fit(X_train_poly, y_train)\n",
    "y_pred = regression.predict(X_test_poly)\n",
    "score=r2_score(y_test,y_pred)\n",
    "print(score)\n",
    "\n",
    "#Now you can see the model is giving slightly more score compared to the previous score"
   ]
  },
  {
   "cell_type": "code",
   "execution_count": 103,
   "id": "52d94e0d-eabd-4c4c-9359-8a641b8029b9",
   "metadata": {},
   "outputs": [
    {
     "data": {
      "image/png": "[encoded data removed]",
      "text/plain": [
       "<Figure size 640x480 with 1 Axes>"
      ]
     },
     "metadata": {},
     "output_type": "display_data"
    }
   ],
   "source": [
    "plt.scatter(X_train,regression.predict(X_train_poly)) #best fit line\n",
    "plt.scatter(X_train,y_train);"
   ]
  },
  {
   "cell_type": "markdown",
   "id": "fae39b71-9d4e-4c66-a032-9923c2985873",
   "metadata": {},
   "source": [
    "## PipeLine Concept"
   ]
  },
  {
   "cell_type": "code",
   "execution_count": 111,
   "id": "ed76ffa6-3a4a-4f2f-8ed8-d7e434714f32",
   "metadata": {},
   "outputs": [],
   "source": [
    "from sklearn.pipeline import Pipeline"
   ]
  },
  {
   "cell_type": "code",
   "execution_count": 135,
   "id": "f4c7567e-3a41-43be-8d19-2f8f93b8b47a",
   "metadata": {},
   "outputs": [],
   "source": [
    "def poly_regression(degree):\n",
    "    X_new = np.linspace(-3, 3, 200).reshape(200, 1)# this is the quadratic equation used\n",
    "    \n",
    "    poly_features=PolynomialFeatures(degree=degree,include_bias=True)\n",
    "    lin_reg=LinearRegression()\n",
    "    poly_regression=Pipeline([\n",
    "        (\"poly_features\",poly_features),\n",
    "        (\"lin_reg\",lin_reg)\n",
    "    ])\n",
    "    poly_regression.fit(X_train,y_train) ## ploynomial and fit of linear reression\n",
    "    y_pred_new=poly_regression.predict(X_new)\n",
    "    #plotting prediction line\n",
    "    plt.plot(X_new, y_pred_new,'r', label=\"Degree \" + str(degree), linewidth=2)\n",
    "    plt.plot(X_train, y_train, \"b.\", linewidth=3)\n",
    "    plt.plot(X_test, y_test, \"g.\", linewidth=3)\n",
    "    plt.legend(loc=\"upper left\")\n",
    "    plt.xlabel(\"X\")\n",
    "    plt.ylabel(\"y\")\n",
    "    plt.axis([-4,4, 0, 10])\n",
    "    plt.show()\n",
    "    "
   ]
  },
  {
   "cell_type": "code",
   "execution_count": 137,
   "id": "95b65b7b-0d9a-4b03-85fc-a46b2d7e3a5a",
   "metadata": {},
   "outputs": [
    {
     "data": {
      "image/png": "[encoded data removed]",
      "text/plain": [
       "<Figure size 640x480 with 1 Axes>"
      ]
     },
     "metadata": {},
     "output_type": "display_data"
    }
   ],
   "source": [
    "poly_regression(1)"
   ]
  },
  {
   "cell_type": "code",
   "execution_count": 138,
   "id": "3f8142aa-7603-4554-80ba-6bcc60e5664d",
   "metadata": {},
   "outputs": [
    {
     "data": {
      "image/png": "[encoded data removed]",
      "text/plain": [
       "<Figure size 640x480 with 1 Axes>"
      ]
     },
     "metadata": {},
     "output_type": "display_data"
    }
   ],
   "source": [
    "poly_regression(3)"
   ]
  },
  {
   "cell_type": "code",
   "execution_count": 140,
   "id": "5969594f-8472-4c3b-befe-8e19d916b013",
   "metadata": {},
   "outputs": [
    {
     "data": {
      "image/png": "[encoded data removed]",
      "text/plain": [
       "<Figure size 640x480 with 1 Axes>"
      ]
     },
     "metadata": {},
     "output_type": "display_data"
    }
   ],
   "source": [
    "poly_regression(6)"
   ]
  },
  {
   "cell_type": "code",
   "execution_count": 142,
   "id": "d1f1d297-6ca9-45b5-b083-c336d304ead8",
   "metadata": {},
   "outputs": [
    {
     "data": {
      "image/png": "[encoded data removed]",
      "text/plain": [
       "<Figure size 640x480 with 1 Axes>"
      ]
     },
     "metadata": {},
     "output_type": "display_data"
    }
   ],
   "source": [
    "poly_regression(15)\n",
    "# now it started to overfit"
   ]
  },
  {
   "cell_type": "code",
   "execution_count": null,
   "id": "3da47b56-5d49-4883-b346-5bdc5da20c24",
   "metadata": {},
   "outputs": [],
   "source": []
  },
  {
   "cell_type": "code",
   "execution_count": null,
   "id": "0998ded2-9ccc-4df6-99c9-6498911bd8dc",
   "metadata": {},
   "outputs": [],
   "source": []
  },
  {
   "cell_type": "code",
   "execution_count": null,
   "id": "be0a34e1-6f5a-4fbb-a138-523c5c127e55",
   "metadata": {},
   "outputs": [],
   "source": []
  }
 ],
 "metadata": {
  "kernelspec": {
   "display_name": "Python 3 (ipykernel)",
   "language": "python",
   "name": "python3"
  },
  "language_info": {
   "codemirror_mode": {
    "name": "ipython",
    "version": 3
   },
   "file_extension": ".py",
   "mimetype": "text/x-python",
   "name": "python",
   "nbconvert_exporter": "python",
   "pygments_lexer": "ipython3",
   "version": "3.12.4"
  }
 },
 "nbformat": 4,
 "nbformat_minor": 5
}
